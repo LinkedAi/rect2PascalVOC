{
 "cells": [
  {
   "cell_type": "code",
   "execution_count": 1,
   "metadata": {},
   "outputs": [],
   "source": [
    "import cv2\n",
    "import json\n",
    "from matplotlib import pyplot as plt\n",
    "from os import walk\n",
    "import xml.etree.ElementTree as ET"
   ]
  },
  {
   "cell_type": "code",
   "execution_count": 39,
   "metadata": {},
   "outputs": [],
   "source": [
    "path = 'tags/'\n",
    "pathi = 'images/'\n",
    "folder = 'RED/'"
   ]
  },
  {
   "cell_type": "code",
   "execution_count": 29,
   "metadata": {},
   "outputs": [],
   "source": [
    "## Read json and show images\n",
    "f = ['Timov_RED.json']\n",
    "# for (dirpath, dirnames, filenames) in walk(path):\n",
    "#     f.extend(filenames)\n",
    "#     break\n",
    "    \n",
    "# for name in f:\n",
    "#     with open(path+'Timov_RED.json', 'r') as file:\n",
    "#         jsn = json.load(file)\n",
    "\n",
    "#     for t in jsn:\n",
    "#         print(pathi + folder + t['image'])\n",
    "        \n",
    "#         image = cv2.imread(pathi + folder + t['image'])\n",
    "#         plt.imshow(image)\n",
    "#         plt.show()"
   ]
  },
  {
   "cell_type": "code",
   "execution_count": 40,
   "metadata": {},
   "outputs": [
    {
     "name": "stdout",
     "output_type": "stream",
     "text": [
      "frame300.jpg\n",
      "DONE\n",
      "frame301.jpg\n",
      "DONE\n",
      "frame302.jpg\n",
      "DONE\n",
      "frame303.jpg\n",
      "DONE\n",
      "frame304.jpg\n",
      "DONE\n",
      "frame305.jpg\n",
      "DONE\n"
     ]
    }
   ],
   "source": [
    "## Transform to Pascal VOC\n",
    "# fs = []\n",
    "# for (dirpath, dirnames, filenames) in walk(path):\n",
    "#     fs.extend(filenames)\n",
    "#     break\n",
    "f = ['Timov_RED.json']\n",
    "\n",
    "for name in f:\n",
    "    with open(path+name, 'r') as file:\n",
    "        jsn = json.load(file)\n",
    "\n",
    "    for t in jsn:\n",
    "        print(t['image'])\n",
    "        image = cv2.imread(pathi + folder + t['image'])\n",
    "\n",
    "        xml_name = \"tags/{}{}.xml\".format(folder, t['image'].split('.')[0])\n",
    "        f = open(xml_name, \"w\")\n",
    "        f.write(\"\")\n",
    "        f.close()\n",
    "\n",
    "        f = open(xml_name, \"a\")\n",
    "        f.write(\"<annotation>\\n\")\n",
    "        f.write(\"\t<folder>{}</folder>\\n\".format(folder.replace('/', '')))\n",
    "        f.write(\"\t<filename>{}</filename>\\n\".format(t['image']))\n",
    "        f.write(\"\t<path>/{}{}{}</path>\\n\".format(pathi, folder, t['image']))\n",
    "        f.write(\"\t<source>\\n\")\n",
    "        f.write(\"\t\t<database>Unknown</database>\\n\")\n",
    "        f.write(\"\t</source>\\n\")\n",
    "        f.write(\"\t<size>\\n\")\n",
    "        f.write(\"\t\t<width>{}</width>\\n\".format(image.shape[1]))\n",
    "        f.write(\"\t\t<height>{}</height>\\n\".format(image.shape[0]))\n",
    "        f.write(\"\t\t<depth>{}</depth>\\n\".format(image.shape[2]))\n",
    "        f.write(\"\t</size>\\n\")\n",
    "        f.write\t(\"\t<segmented>0</segmented>\\n\")\n",
    "        \n",
    "        for tag in t['tags']:\n",
    "            x_min = int(tag['pos']['x'])\n",
    "            y_min = int(tag['pos']['y'])\n",
    "            x_max = x_min + int(tag['pos']['w'])\n",
    "            y_max = y_min + int(tag['pos']['h'])\n",
    "            \n",
    "            f.write(\"\t<object>\\n\")\n",
    "            f.write(\"\t\t<name>{}</name>\\n\".format(tag['name']))\n",
    "            f.write(\"\t\t<pose>Unspecified</pose>\\n\")\n",
    "            f.write(\"\t\t<truncated>0</truncated>\\n\")\n",
    "            f.write(\"\t\t<difficult>0</difficult>\\n\")\n",
    "            f.write(\"\t\t<bndbox>\\n\")\n",
    "            f.write(\"\t\t\t<xmin>{}</xmin>\\n\".format(x_min))\n",
    "            f.write(\"\t\t\t<ymin>{}</ymin>\\n\".format(y_min))\n",
    "            f.write(\"\t\t\t<xmax>{}</xmax>\\n\".format(x_max))\n",
    "            f.write(\"\t\t\t<ymax>{}</ymax>\\n\".format(y_max))\n",
    "            f.write(\"\t\t</bndbox>\\n\")\n",
    "            f.write(\"\t</object>\\n\")\n",
    "        f.write(\"</annotation>\\n\")\n",
    "        f.close()\n",
    "        print('DONE')\n",
    "#         f = open(xml_name, \"r\")\n",
    "#         print(f.read())\n",
    "#         f.close()"
   ]
  },
  {
   "cell_type": "code",
   "execution_count": 42,
   "metadata": {},
   "outputs": [
    {
     "name": "stdout",
     "output_type": "stream",
     "text": [
      "21\n"
     ]
    },
    {
     "ename": "TypeError",
     "evalue": "Image data cannot be converted to float",
     "output_type": "error",
     "traceback": [
      "\u001b[1;31m---------------------------------------------------------------------------\u001b[0m",
      "\u001b[1;31mTypeError\u001b[0m                                 Traceback (most recent call last)",
      "\u001b[1;32m<ipython-input-42-94dc8d76b590>\u001b[0m in \u001b[0;36m<module>\u001b[1;34m\u001b[0m\n\u001b[0;32m     18\u001b[0m \u001b[1;33m\u001b[0m\u001b[0m\n\u001b[0;32m     19\u001b[0m \u001b[0mprint\u001b[0m\u001b[1;33m(\u001b[0m\u001b[0mcount\u001b[0m\u001b[1;33m)\u001b[0m\u001b[1;33m\u001b[0m\u001b[1;33m\u001b[0m\u001b[0m\n\u001b[1;32m---> 20\u001b[1;33m \u001b[0mplt\u001b[0m\u001b[1;33m.\u001b[0m\u001b[0mimshow\u001b[0m\u001b[1;33m(\u001b[0m\u001b[0mimage\u001b[0m\u001b[1;33m)\u001b[0m\u001b[1;33m\u001b[0m\u001b[1;33m\u001b[0m\u001b[0m\n\u001b[0m\u001b[0;32m     21\u001b[0m \u001b[0mplt\u001b[0m\u001b[1;33m.\u001b[0m\u001b[0mshow\u001b[0m\u001b[1;33m(\u001b[0m\u001b[1;33m)\u001b[0m\u001b[1;33m\u001b[0m\u001b[1;33m\u001b[0m\u001b[0m\n",
      "\u001b[1;32m~\\Anaconda3\\lib\\site-packages\\matplotlib\\pyplot.py\u001b[0m in \u001b[0;36mimshow\u001b[1;34m(X, cmap, norm, aspect, interpolation, alpha, vmin, vmax, origin, extent, shape, filternorm, filterrad, imlim, resample, url, data, **kwargs)\u001b[0m\n\u001b[0;32m   2697\u001b[0m         \u001b[0mfilternorm\u001b[0m\u001b[1;33m=\u001b[0m\u001b[0mfilternorm\u001b[0m\u001b[1;33m,\u001b[0m \u001b[0mfilterrad\u001b[0m\u001b[1;33m=\u001b[0m\u001b[0mfilterrad\u001b[0m\u001b[1;33m,\u001b[0m \u001b[0mimlim\u001b[0m\u001b[1;33m=\u001b[0m\u001b[0mimlim\u001b[0m\u001b[1;33m,\u001b[0m\u001b[1;33m\u001b[0m\u001b[1;33m\u001b[0m\u001b[0m\n\u001b[0;32m   2698\u001b[0m         resample=resample, url=url, **({\"data\": data} if data is not\n\u001b[1;32m-> 2699\u001b[1;33m         None else {}), **kwargs)\n\u001b[0m\u001b[0;32m   2700\u001b[0m     \u001b[0msci\u001b[0m\u001b[1;33m(\u001b[0m\u001b[0m__ret\u001b[0m\u001b[1;33m)\u001b[0m\u001b[1;33m\u001b[0m\u001b[1;33m\u001b[0m\u001b[0m\n\u001b[0;32m   2701\u001b[0m     \u001b[1;32mreturn\u001b[0m \u001b[0m__ret\u001b[0m\u001b[1;33m\u001b[0m\u001b[1;33m\u001b[0m\u001b[0m\n",
      "\u001b[1;32m~\\Anaconda3\\lib\\site-packages\\matplotlib\\__init__.py\u001b[0m in \u001b[0;36minner\u001b[1;34m(ax, data, *args, **kwargs)\u001b[0m\n\u001b[0;32m   1808\u001b[0m                         \u001b[1;34m\"the Matplotlib list!)\"\u001b[0m \u001b[1;33m%\u001b[0m \u001b[1;33m(\u001b[0m\u001b[0mlabel_namer\u001b[0m\u001b[1;33m,\u001b[0m \u001b[0mfunc\u001b[0m\u001b[1;33m.\u001b[0m\u001b[0m__name__\u001b[0m\u001b[1;33m)\u001b[0m\u001b[1;33m,\u001b[0m\u001b[1;33m\u001b[0m\u001b[1;33m\u001b[0m\u001b[0m\n\u001b[0;32m   1809\u001b[0m                         RuntimeWarning, stacklevel=2)\n\u001b[1;32m-> 1810\u001b[1;33m             \u001b[1;32mreturn\u001b[0m \u001b[0mfunc\u001b[0m\u001b[1;33m(\u001b[0m\u001b[0max\u001b[0m\u001b[1;33m,\u001b[0m \u001b[1;33m*\u001b[0m\u001b[0margs\u001b[0m\u001b[1;33m,\u001b[0m \u001b[1;33m**\u001b[0m\u001b[0mkwargs\u001b[0m\u001b[1;33m)\u001b[0m\u001b[1;33m\u001b[0m\u001b[1;33m\u001b[0m\u001b[0m\n\u001b[0m\u001b[0;32m   1811\u001b[0m \u001b[1;33m\u001b[0m\u001b[0m\n\u001b[0;32m   1812\u001b[0m         inner.__doc__ = _add_data_doc(inner.__doc__,\n",
      "\u001b[1;32m~\\Anaconda3\\lib\\site-packages\\matplotlib\\axes\\_axes.py\u001b[0m in \u001b[0;36mimshow\u001b[1;34m(self, X, cmap, norm, aspect, interpolation, alpha, vmin, vmax, origin, extent, shape, filternorm, filterrad, imlim, resample, url, **kwargs)\u001b[0m\n\u001b[0;32m   5492\u001b[0m                               resample=resample, **kwargs)\n\u001b[0;32m   5493\u001b[0m \u001b[1;33m\u001b[0m\u001b[0m\n\u001b[1;32m-> 5494\u001b[1;33m         \u001b[0mim\u001b[0m\u001b[1;33m.\u001b[0m\u001b[0mset_data\u001b[0m\u001b[1;33m(\u001b[0m\u001b[0mX\u001b[0m\u001b[1;33m)\u001b[0m\u001b[1;33m\u001b[0m\u001b[1;33m\u001b[0m\u001b[0m\n\u001b[0m\u001b[0;32m   5495\u001b[0m         \u001b[0mim\u001b[0m\u001b[1;33m.\u001b[0m\u001b[0mset_alpha\u001b[0m\u001b[1;33m(\u001b[0m\u001b[0malpha\u001b[0m\u001b[1;33m)\u001b[0m\u001b[1;33m\u001b[0m\u001b[1;33m\u001b[0m\u001b[0m\n\u001b[0;32m   5496\u001b[0m         \u001b[1;32mif\u001b[0m \u001b[0mim\u001b[0m\u001b[1;33m.\u001b[0m\u001b[0mget_clip_path\u001b[0m\u001b[1;33m(\u001b[0m\u001b[1;33m)\u001b[0m \u001b[1;32mis\u001b[0m \u001b[1;32mNone\u001b[0m\u001b[1;33m:\u001b[0m\u001b[1;33m\u001b[0m\u001b[1;33m\u001b[0m\u001b[0m\n",
      "\u001b[1;32m~\\Anaconda3\\lib\\site-packages\\matplotlib\\image.py\u001b[0m in \u001b[0;36mset_data\u001b[1;34m(self, A)\u001b[0m\n\u001b[0;32m    632\u001b[0m         if (self._A.dtype != np.uint8 and\n\u001b[0;32m    633\u001b[0m                 not np.can_cast(self._A.dtype, float, \"same_kind\")):\n\u001b[1;32m--> 634\u001b[1;33m             \u001b[1;32mraise\u001b[0m \u001b[0mTypeError\u001b[0m\u001b[1;33m(\u001b[0m\u001b[1;34m\"Image data cannot be converted to float\"\u001b[0m\u001b[1;33m)\u001b[0m\u001b[1;33m\u001b[0m\u001b[1;33m\u001b[0m\u001b[0m\n\u001b[0m\u001b[0;32m    635\u001b[0m \u001b[1;33m\u001b[0m\u001b[0m\n\u001b[0;32m    636\u001b[0m         if not (self._A.ndim == 2\n",
      "\u001b[1;31mTypeError\u001b[0m: Image data cannot be converted to float"
     ]
    },
    {
     "data": {
      "image/png": "[encoded data removed]",
      "text/plain": [
       "<Figure size 432x288 with 1 Axes>"
      ]
     },
     "metadata": {
      "needs_background": "light"
     },
     "output_type": "display_data"
    }
   ],
   "source": [
    "from xml.dom import minidom\n",
    "\n",
    "mydoc = minidom.parse('tags/PL/frame37.xml')\n",
    "objects = mydoc.getElementsByTagName('object')\n",
    "\n",
    "image = cv2.imread(pathi + folder + mydoc.getElementsByTagName('filename')[0].firstChild.data)\n",
    "count = 0\n",
    "for obj in objects:\n",
    "    xmin = obj.getElementsByTagName('xmin')[0].firstChild.data\n",
    "    xmax = obj.getElementsByTagName('xmax')[0].firstChild.data\n",
    "    ymin = obj.getElementsByTagName('ymin')[0].firstChild.data\n",
    "    ymax = obj.getElementsByTagName('ymax')[0].firstChild.data\n",
    "    \n",
    "    count = count + 1\n",
    "    \n",
    "#     image = cv2.rectangle(image, (xmin, ymin), )\n",
    "    image = cv2.rectangle(image, (int(xmin), int(ymin)), (int(xmax), int(ymax)), (255, 0, 0), 1) \n",
    "\n",
    "print(count)\n",
    "plt.imshow(image)\n",
    "plt.show()\n"
   ]
  },
  {
   "cell_type": "code",
   "execution_count": null,
   "metadata": {},
   "outputs": [],
   "source": []
  }
 ],
 "metadata": {
  "kernelspec": {
   "display_name": "Python 3",
   "language": "python",
   "name": "python3"
  },
  "language_info": {
   "codemirror_mode": {
    "name": "ipython",
    "version": 3
   },
   "file_extension": ".py",
   "mimetype": "text/x-python",
   "name": "python",
   "nbconvert_exporter": "python",
   "pygments_lexer": "ipython3",
   "version": "3.7.3"
  }
 },
 "nbformat": 4,
 "nbformat_minor": 2
}
